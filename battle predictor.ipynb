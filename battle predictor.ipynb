{
 "cells": [
  {
   "cell_type": "markdown",
   "metadata": {},
   "source": [
    "# Pokemon Battle Predictor"
   ]
  },
  {
   "cell_type": "code",
   "execution_count": 192,
   "metadata": {},
   "outputs": [],
   "source": [
    "import pandas as pd\n",
    "import numpy as np\n",
    "import matplotlib.pyplot as plt"
   ]
  },
  {
   "cell_type": "code",
   "execution_count": 193,
   "metadata": {},
   "outputs": [],
   "source": [
    "pokemon = pd.read_csv('data/pokemon.csv')\n",
    "combats = pd.read_csv('data/combats.csv')\n",
    "tests = pd.read_csv('data/tests.csv')"
   ]
  },
  {
   "cell_type": "code",
   "execution_count": 194,
   "metadata": {},
   "outputs": [
    {
     "name": "stdout",
     "output_type": "stream",
     "text": [
      "<class 'pandas.core.frame.DataFrame'>\n",
      "RangeIndex: 800 entries, 0 to 799\n",
      "Data columns (total 12 columns):\n",
      " #   Column      Non-Null Count  Dtype \n",
      "---  ------      --------------  ----- \n",
      " 0   #           800 non-null    int64 \n",
      " 1   Name        799 non-null    object\n",
      " 2   Type 1      800 non-null    object\n",
      " 3   Type 2      414 non-null    object\n",
      " 4   HP          800 non-null    int64 \n",
      " 5   Attack      800 non-null    int64 \n",
      " 6   Defense     800 non-null    int64 \n",
      " 7   Sp. Atk     800 non-null    int64 \n",
      " 8   Sp. Def     800 non-null    int64 \n",
      " 9   Speed       800 non-null    int64 \n",
      " 10  Generation  800 non-null    int64 \n",
      " 11  Legendary   800 non-null    bool  \n",
      "dtypes: bool(1), int64(8), object(3)\n",
      "memory usage: 69.7+ KB\n"
     ]
    }
   ],
   "source": [
    "pokemon.info()"
   ]
  },
  {
   "cell_type": "code",
   "execution_count": 195,
   "metadata": {},
   "outputs": [
    {
     "name": "stdout",
     "output_type": "stream",
     "text": [
      "<class 'pandas.core.frame.DataFrame'>\n",
      "RangeIndex: 50000 entries, 0 to 49999\n",
      "Data columns (total 3 columns):\n",
      " #   Column          Non-Null Count  Dtype\n",
      "---  ------          --------------  -----\n",
      " 0   First_pokemon   50000 non-null  int64\n",
      " 1   Second_pokemon  50000 non-null  int64\n",
      " 2   Winner          50000 non-null  int64\n",
      "dtypes: int64(3)\n",
      "memory usage: 1.1 MB\n"
     ]
    }
   ],
   "source": [
    "combats.info()"
   ]
  },
  {
   "cell_type": "code",
   "execution_count": 196,
   "metadata": {},
   "outputs": [
    {
     "data": {
      "text/plain": [
       "<AxesSubplot:>"
      ]
     },
     "execution_count": 196,
     "metadata": {},
     "output_type": "execute_result"
    },
    {
     "data": {
      "image/png": "[encoded data removed]",
      "text/plain": [
       "<Figure size 1152x648 with 1 Axes>"
      ]
     },
     "metadata": {
      "needs_background": "light"
     },
     "output_type": "display_data"
    }
   ],
   "source": [
    "pokemon['Type 1'].value_counts().plot(kind = 'bar', figsize=(16,9))"
   ]
  },
  {
   "cell_type": "code",
   "execution_count": 197,
   "metadata": {},
   "outputs": [
    {
     "data": {
      "text/plain": [
       "386"
      ]
     },
     "execution_count": 197,
     "metadata": {},
     "output_type": "execute_result"
    }
   ],
   "source": [
    "pokemon['Type 2'].isna().sum()"
   ]
  },
  {
   "cell_type": "markdown",
   "metadata": {},
   "source": [
    "A lot of missing values, let us fill it with another object 'NA'"
   ]
  },
  {
   "cell_type": "code",
   "execution_count": 198,
   "metadata": {},
   "outputs": [],
   "source": [
    "pokemon['Type 2'].fillna('NA', inplace=True)\n",
    "pokemon['Name'].fillna('NA', inplace= True)"
   ]
  },
  {
   "cell_type": "code",
   "execution_count": 199,
   "metadata": {},
   "outputs": [
    {
     "data": {
      "text/plain": [
       "0"
      ]
     },
     "execution_count": 199,
     "metadata": {},
     "output_type": "execute_result"
    }
   ],
   "source": [
    "pokemon['Type 2'].isna().sum()"
   ]
  },
  {
   "cell_type": "markdown",
   "metadata": {},
   "source": [
    "great!"
   ]
  },
  {
   "cell_type": "code",
   "execution_count": 200,
   "metadata": {},
   "outputs": [
    {
     "name": "stdout",
     "output_type": "stream",
     "text": [
      "<class 'pandas.core.frame.DataFrame'>\n",
      "RangeIndex: 800 entries, 0 to 799\n",
      "Data columns (total 12 columns):\n",
      " #   Column      Non-Null Count  Dtype \n",
      "---  ------      --------------  ----- \n",
      " 0   #           800 non-null    int64 \n",
      " 1   Name        800 non-null    object\n",
      " 2   Type 1      800 non-null    object\n",
      " 3   Type 2      800 non-null    object\n",
      " 4   HP          800 non-null    int64 \n",
      " 5   Attack      800 non-null    int64 \n",
      " 6   Defense     800 non-null    int64 \n",
      " 7   Sp. Atk     800 non-null    int64 \n",
      " 8   Sp. Def     800 non-null    int64 \n",
      " 9   Speed       800 non-null    int64 \n",
      " 10  Generation  800 non-null    int64 \n",
      " 11  Legendary   800 non-null    bool  \n",
      "dtypes: bool(1), int64(8), object(3)\n",
      "memory usage: 69.7+ KB\n"
     ]
    }
   ],
   "source": [
    "pokemon.info()"
   ]
  },
  {
   "cell_type": "markdown",
   "metadata": {},
   "source": [
    "No missing data now! \n",
    "Now to predict, all the parameters should be in integer format  \n",
    "But features are in object format -  \n",
    "- `Name`\n",
    "- `Type 1`\n",
    "- `Type 2`   \n",
    "Also, The variable `Name` is not a feature, so we dont need it, and same goes for `#`(index col)\n",
    "so we just encode the `Type 1` and `Type 2` columns!"
   ]
  },
  {
   "cell_type": "code",
   "execution_count": 201,
   "metadata": {},
   "outputs": [],
   "source": [
    "pokemon = pd.get_dummies(pokemon, prefix=['Type 1', 'Type 2'], columns= ['Type 1', 'Type 2'])"
   ]
  },
  {
   "cell_type": "markdown",
   "metadata": {},
   "source": [
    "Awesome, now i want to create a dataframe which will contain the stats of each pokemon, corresponding to `Combats.csv` and train the model on that!"
   ]
  },
  {
   "cell_type": "code",
   "execution_count": 202,
   "metadata": {},
   "outputs": [
    {
     "data": {
      "text/html": [
       "<div>\n",
       "<style scoped>\n",
       "    .dataframe tbody tr th:only-of-type {\n",
       "        vertical-align: middle;\n",
       "    }\n",
       "\n",
       "    .dataframe tbody tr th {\n",
       "        vertical-align: top;\n",
       "    }\n",
       "\n",
       "    .dataframe thead th {\n",
       "        text-align: right;\n",
       "    }\n",
       "</style>\n",
       "<table border=\"1\" class=\"dataframe\">\n",
       "  <thead>\n",
       "    <tr style=\"text-align: right;\">\n",
       "      <th></th>\n",
       "      <th>First_pokemon</th>\n",
       "      <th>Second_pokemon</th>\n",
       "      <th>Winner</th>\n",
       "    </tr>\n",
       "  </thead>\n",
       "  <tbody>\n",
       "    <tr>\n",
       "      <th>0</th>\n",
       "      <td>266</td>\n",
       "      <td>298</td>\n",
       "      <td>298</td>\n",
       "    </tr>\n",
       "    <tr>\n",
       "      <th>1</th>\n",
       "      <td>702</td>\n",
       "      <td>701</td>\n",
       "      <td>701</td>\n",
       "    </tr>\n",
       "    <tr>\n",
       "      <th>2</th>\n",
       "      <td>191</td>\n",
       "      <td>668</td>\n",
       "      <td>668</td>\n",
       "    </tr>\n",
       "    <tr>\n",
       "      <th>3</th>\n",
       "      <td>237</td>\n",
       "      <td>683</td>\n",
       "      <td>683</td>\n",
       "    </tr>\n",
       "    <tr>\n",
       "      <th>4</th>\n",
       "      <td>151</td>\n",
       "      <td>231</td>\n",
       "      <td>151</td>\n",
       "    </tr>\n",
       "  </tbody>\n",
       "</table>\n",
       "</div>"
      ],
      "text/plain": [
       "   First_pokemon  Second_pokemon  Winner\n",
       "0            266             298     298\n",
       "1            702             701     701\n",
       "2            191             668     668\n",
       "3            237             683     683\n",
       "4            151             231     151"
      ]
     },
     "execution_count": 202,
     "metadata": {},
     "output_type": "execute_result"
    }
   ],
   "source": [
    "combats.head(5)"
   ]
  },
  {
   "cell_type": "code",
   "execution_count": 203,
   "metadata": {},
   "outputs": [
    {
     "name": "stdout",
     "output_type": "stream",
     "text": [
      "<class 'pandas.core.frame.DataFrame'>\n",
      "RangeIndex: 1 entries, 0 to 0\n",
      "Data columns (total 94 columns):\n",
      " #   Column           Non-Null Count  Dtype \n",
      "---  ------           --------------  ----- \n",
      " 0   #                1 non-null      int64 \n",
      " 1   Name             1 non-null      object\n",
      " 2   HP               1 non-null      int64 \n",
      " 3   Attack           1 non-null      int64 \n",
      " 4   Defense          1 non-null      int64 \n",
      " 5   Sp. Atk          1 non-null      int64 \n",
      " 6   Sp. Def          1 non-null      int64 \n",
      " 7   Speed            1 non-null      int64 \n",
      " 8   Generation       1 non-null      int64 \n",
      " 9   Legendary        1 non-null      bool  \n",
      " 10  Type 1_Bug       1 non-null      uint8 \n",
      " 11  Type 1_Dark      1 non-null      uint8 \n",
      " 12  Type 1_Dragon    1 non-null      uint8 \n",
      " 13  Type 1_Electric  1 non-null      uint8 \n",
      " 14  Type 1_Fairy     1 non-null      uint8 \n",
      " 15  Type 1_Fighting  1 non-null      uint8 \n",
      " 16  Type 1_Fire      1 non-null      uint8 \n",
      " 17  Type 1_Flying    1 non-null      uint8 \n",
      " 18  Type 1_Ghost     1 non-null      uint8 \n",
      " 19  Type 1_Grass     1 non-null      uint8 \n",
      " 20  Type 1_Ground    1 non-null      uint8 \n",
      " 21  Type 1_Ice       1 non-null      uint8 \n",
      " 22  Type 1_Normal    1 non-null      uint8 \n",
      " 23  Type 1_Poison    1 non-null      uint8 \n",
      " 24  Type 1_Psychic   1 non-null      uint8 \n",
      " 25  Type 1_Rock      1 non-null      uint8 \n",
      " 26  Type 1_Steel     1 non-null      uint8 \n",
      " 27  Type 1_Water     1 non-null      uint8 \n",
      " 28  Type 2_Bug       1 non-null      uint8 \n",
      " 29  Type 2_Dark      1 non-null      uint8 \n",
      " 30  Type 2_Dragon    1 non-null      uint8 \n",
      " 31  Type 2_Electric  1 non-null      uint8 \n",
      " 32  Type 2_Fairy     1 non-null      uint8 \n",
      " 33  Type 2_Fighting  1 non-null      uint8 \n",
      " 34  Type 2_Fire      1 non-null      uint8 \n",
      " 35  Type 2_Flying    1 non-null      uint8 \n",
      " 36  Type 2_Ghost     1 non-null      uint8 \n",
      " 37  Type 2_Grass     1 non-null      uint8 \n",
      " 38  Type 2_Ground    1 non-null      uint8 \n",
      " 39  Type 2_Ice       1 non-null      uint8 \n",
      " 40  Type 2_NA        1 non-null      uint8 \n",
      " 41  Type 2_Normal    1 non-null      uint8 \n",
      " 42  Type 2_Poison    1 non-null      uint8 \n",
      " 43  Type 2_Psychic   1 non-null      uint8 \n",
      " 44  Type 2_Rock      1 non-null      uint8 \n",
      " 45  Type 2_Steel     1 non-null      uint8 \n",
      " 46  Type 2_Water     1 non-null      uint8 \n",
      " 47  #                1 non-null      int64 \n",
      " 48  Name             1 non-null      object\n",
      " 49  HP               1 non-null      int64 \n",
      " 50  Attack           1 non-null      int64 \n",
      " 51  Defense          1 non-null      int64 \n",
      " 52  Sp. Atk          1 non-null      int64 \n",
      " 53  Sp. Def          1 non-null      int64 \n",
      " 54  Speed            1 non-null      int64 \n",
      " 55  Generation       1 non-null      int64 \n",
      " 56  Legendary        1 non-null      bool  \n",
      " 57  Type 1_Bug       1 non-null      uint8 \n",
      " 58  Type 1_Dark      1 non-null      uint8 \n",
      " 59  Type 1_Dragon    1 non-null      uint8 \n",
      " 60  Type 1_Electric  1 non-null      uint8 \n",
      " 61  Type 1_Fairy     1 non-null      uint8 \n",
      " 62  Type 1_Fighting  1 non-null      uint8 \n",
      " 63  Type 1_Fire      1 non-null      uint8 \n",
      " 64  Type 1_Flying    1 non-null      uint8 \n",
      " 65  Type 1_Ghost     1 non-null      uint8 \n",
      " 66  Type 1_Grass     1 non-null      uint8 \n",
      " 67  Type 1_Ground    1 non-null      uint8 \n",
      " 68  Type 1_Ice       1 non-null      uint8 \n",
      " 69  Type 1_Normal    1 non-null      uint8 \n",
      " 70  Type 1_Poison    1 non-null      uint8 \n",
      " 71  Type 1_Psychic   1 non-null      uint8 \n",
      " 72  Type 1_Rock      1 non-null      uint8 \n",
      " 73  Type 1_Steel     1 non-null      uint8 \n",
      " 74  Type 1_Water     1 non-null      uint8 \n",
      " 75  Type 2_Bug       1 non-null      uint8 \n",
      " 76  Type 2_Dark      1 non-null      uint8 \n",
      " 77  Type 2_Dragon    1 non-null      uint8 \n",
      " 78  Type 2_Electric  1 non-null      uint8 \n",
      " 79  Type 2_Fairy     1 non-null      uint8 \n",
      " 80  Type 2_Fighting  1 non-null      uint8 \n",
      " 81  Type 2_Fire      1 non-null      uint8 \n",
      " 82  Type 2_Flying    1 non-null      uint8 \n",
      " 83  Type 2_Ghost     1 non-null      uint8 \n",
      " 84  Type 2_Grass     1 non-null      uint8 \n",
      " 85  Type 2_Ground    1 non-null      uint8 \n",
      " 86  Type 2_Ice       1 non-null      uint8 \n",
      " 87  Type 2_NA        1 non-null      uint8 \n",
      " 88  Type 2_Normal    1 non-null      uint8 \n",
      " 89  Type 2_Poison    1 non-null      uint8 \n",
      " 90  Type 2_Psychic   1 non-null      uint8 \n",
      " 91  Type 2_Rock      1 non-null      uint8 \n",
      " 92  Type 2_Steel     1 non-null      uint8 \n",
      " 93  Type 2_Water     1 non-null      uint8 \n",
      "dtypes: bool(2), int64(16), object(2), uint8(74)\n",
      "memory usage: 348.0+ bytes\n"
     ]
    }
   ],
   "source": [
    "pd.concat([pokemon.loc[pokemon['#'] == 266].reset_index(drop=True), pokemon.loc[pokemon['#'] == 298].reset_index(drop=True)], axis = 1).info()\n",
    "\n"
   ]
  },
  {
   "cell_type": "code",
   "execution_count": 204,
   "metadata": {},
   "outputs": [],
   "source": [
    "pokemon['Legendary'].replace({\n",
    "    True : 1,\n",
    "    False: 0\n",
    "}, inplace= True)"
   ]
  },
  {
   "cell_type": "code",
   "execution_count": 205,
   "metadata": {},
   "outputs": [
    {
     "name": "stdout",
     "output_type": "stream",
     "text": [
      "<class 'pandas.core.frame.DataFrame'>\n",
      "RangeIndex: 10000 entries, 0 to 9999\n",
      "Data columns (total 2 columns):\n",
      " #   Column          Non-Null Count  Dtype\n",
      "---  ------          --------------  -----\n",
      " 0   First_pokemon   10000 non-null  int64\n",
      " 1   Second_pokemon  10000 non-null  int64\n",
      "dtypes: int64(2)\n",
      "memory usage: 156.4 KB\n"
     ]
    }
   ],
   "source": [
    "tests.info()"
   ]
  },
  {
   "cell_type": "code",
   "execution_count": 206,
   "metadata": {},
   "outputs": [
    {
     "data": {
      "text/html": [
       "<div>\n",
       "<style scoped>\n",
       "    .dataframe tbody tr th:only-of-type {\n",
       "        vertical-align: middle;\n",
       "    }\n",
       "\n",
       "    .dataframe tbody tr th {\n",
       "        vertical-align: top;\n",
       "    }\n",
       "\n",
       "    .dataframe thead th {\n",
       "        text-align: right;\n",
       "    }\n",
       "</style>\n",
       "<table border=\"1\" class=\"dataframe\">\n",
       "  <thead>\n",
       "    <tr style=\"text-align: right;\">\n",
       "      <th></th>\n",
       "      <th>First_pokemon</th>\n",
       "      <th>Second_pokemon</th>\n",
       "      <th>Winner</th>\n",
       "    </tr>\n",
       "  </thead>\n",
       "  <tbody>\n",
       "    <tr>\n",
       "      <th>0</th>\n",
       "      <td>266</td>\n",
       "      <td>298</td>\n",
       "      <td>298.0</td>\n",
       "    </tr>\n",
       "    <tr>\n",
       "      <th>1</th>\n",
       "      <td>702</td>\n",
       "      <td>701</td>\n",
       "      <td>701.0</td>\n",
       "    </tr>\n",
       "    <tr>\n",
       "      <th>2</th>\n",
       "      <td>191</td>\n",
       "      <td>668</td>\n",
       "      <td>668.0</td>\n",
       "    </tr>\n",
       "    <tr>\n",
       "      <th>3</th>\n",
       "      <td>237</td>\n",
       "      <td>683</td>\n",
       "      <td>683.0</td>\n",
       "    </tr>\n",
       "    <tr>\n",
       "      <th>4</th>\n",
       "      <td>151</td>\n",
       "      <td>231</td>\n",
       "      <td>151.0</td>\n",
       "    </tr>\n",
       "    <tr>\n",
       "      <th>...</th>\n",
       "      <td>...</td>\n",
       "      <td>...</td>\n",
       "      <td>...</td>\n",
       "    </tr>\n",
       "    <tr>\n",
       "      <th>9995</th>\n",
       "      <td>216</td>\n",
       "      <td>498</td>\n",
       "      <td>NaN</td>\n",
       "    </tr>\n",
       "    <tr>\n",
       "      <th>9996</th>\n",
       "      <td>113</td>\n",
       "      <td>404</td>\n",
       "      <td>NaN</td>\n",
       "    </tr>\n",
       "    <tr>\n",
       "      <th>9997</th>\n",
       "      <td>493</td>\n",
       "      <td>104</td>\n",
       "      <td>NaN</td>\n",
       "    </tr>\n",
       "    <tr>\n",
       "      <th>9998</th>\n",
       "      <td>643</td>\n",
       "      <td>259</td>\n",
       "      <td>NaN</td>\n",
       "    </tr>\n",
       "    <tr>\n",
       "      <th>9999</th>\n",
       "      <td>678</td>\n",
       "      <td>531</td>\n",
       "      <td>NaN</td>\n",
       "    </tr>\n",
       "  </tbody>\n",
       "</table>\n",
       "<p>60000 rows × 3 columns</p>\n",
       "</div>"
      ],
      "text/plain": [
       "      First_pokemon  Second_pokemon  Winner\n",
       "0               266             298   298.0\n",
       "1               702             701   701.0\n",
       "2               191             668   668.0\n",
       "3               237             683   683.0\n",
       "4               151             231   151.0\n",
       "...             ...             ...     ...\n",
       "9995            216             498     NaN\n",
       "9996            113             404     NaN\n",
       "9997            493             104     NaN\n",
       "9998            643             259     NaN\n",
       "9999            678             531     NaN\n",
       "\n",
       "[60000 rows x 3 columns]"
      ]
     },
     "execution_count": 206,
     "metadata": {},
     "output_type": "execute_result"
    }
   ],
   "source": [
    "pd.concat([combats.reset_index(drop= True), tests.reset_index(drop=True)])"
   ]
  },
  {
   "cell_type": "markdown",
   "metadata": {},
   "source": [
    "**NOTE**    \n",
    "`winner == 0` means first pokemon wins\n",
    "\n",
    "`winner == 1` means second pokemon wins"
   ]
  },
  {
   "cell_type": "code",
   "execution_count": 207,
   "metadata": {},
   "outputs": [],
   "source": [
    "df = []\n",
    "for i in range(0, 10000):\n",
    "    first_pokemon_stats = pokemon.loc[pokemon['#'] == combats.iloc[i]['First_pokemon']].drop(['Name','#'], axis = 1).values[0]\n",
    "    second_pokemon_stats = pokemon.loc[pokemon['#'] == combats.iloc[i]['Second_pokemon']].drop(['Name','#'], axis = 1).values[0]\n",
    "    winner = np.array([0])\n",
    "    if combats.iloc[i]['Winner'] == combats.iloc[i]['Second_pokemon']:\n",
    "        winner = np.array([1])\n",
    "    df.append(np.concatenate((first_pokemon_stats, second_pokemon_stats, winner)))"
   ]
  },
  {
   "cell_type": "code",
   "execution_count": 208,
   "metadata": {},
   "outputs": [],
   "source": [
    "df = pd.DataFrame(df)"
   ]
  },
  {
   "cell_type": "code",
   "execution_count": 209,
   "metadata": {},
   "outputs": [],
   "source": [
    "from sklearn.model_selection import train_test_split\n",
    "X = df.iloc[:, :-1]\n",
    "Y = df.iloc[:, df.columns == 90]\n",
    "x_train, x_test, y_train, y_test = train_test_split(X, Y,test_size= 0.3, random_state = 100)"
   ]
  },
  {
   "cell_type": "code",
   "execution_count": 210,
   "metadata": {},
   "outputs": [
    {
     "name": "stderr",
     "output_type": "stream",
     "text": [
      "c:\\Users\\lenovo\\AppData\\Local\\Programs\\Python\\Python38\\lib\\site-packages\\sklearn\\utils\\validation.py:985: DataConversionWarning: A column-vector y was passed when a 1d array was expected. Please change the shape of y to (n_samples, ), for example using ravel().\n",
      "  y = column_or_1d(y, warn=True)\n",
      "c:\\Users\\lenovo\\AppData\\Local\\Programs\\Python\\Python38\\lib\\site-packages\\sklearn\\linear_model\\_logistic.py:814: ConvergenceWarning: lbfgs failed to converge (status=1):\n",
      "STOP: TOTAL NO. of ITERATIONS REACHED LIMIT.\n",
      "\n",
      "Increase the number of iterations (max_iter) or scale the data as shown in:\n",
      "    https://scikit-learn.org/stable/modules/preprocessing.html\n",
      "Please also refer to the documentation for alternative solver options:\n",
      "    https://scikit-learn.org/stable/modules/linear_model.html#logistic-regression\n",
      "  n_iter_i = _check_optimize_result(\n"
     ]
    },
    {
     "data": {
      "text/plain": [
       "LogisticRegression()"
      ]
     },
     "execution_count": 210,
     "metadata": {},
     "output_type": "execute_result"
    }
   ],
   "source": [
    "from sklearn.linear_model import LogisticRegression\n",
    "\n",
    "predictor = LogisticRegression()\n",
    "predictor.fit(x_train, y_train)"
   ]
  },
  {
   "cell_type": "code",
   "execution_count": 211,
   "metadata": {},
   "outputs": [],
   "source": [
    "y_pred = predictor.predict(x_test)"
   ]
  },
  {
   "cell_type": "code",
   "execution_count": 212,
   "metadata": {},
   "outputs": [
    {
     "name": "stdout",
     "output_type": "stream",
     "text": [
      "Accuracy: 88.33%\n",
      "Precision:  0.8928128872366791\n",
      "Recall 0.8906056860321384\n",
      "F1 score 0.8917079207920793\n"
     ]
    }
   ],
   "source": [
    "from sklearn.metrics import accuracy_score, precision_score, recall_score, f1_score\n",
    "accuracy = accuracy_score(y_test, y_pred)\n",
    "print(\"Accuracy: {:.2f}%\".format(accuracy * 100))\n",
    "print(\"Precision: \", precision_score(y_test, y_pred))\n",
    "print(\"Recall\", recall_score(y_test, y_pred))\n",
    "print(\"F1 score\",f1_score(y_test, y_pred) )"
   ]
  },
  {
   "cell_type": "code",
   "execution_count": 218,
   "metadata": {},
   "outputs": [],
   "source": [
    "def predict_battle_result(pkmn0, pkmn1):\n",
    "    pkmn0_stats = pokemon.loc[pokemon['Name'] == pkmn0].drop(['Name','#'], axis = 1).values[0]\n",
    "    pkmn1_stats = pokemon.loc[pokemon['Name'] == pkmn1].drop(['Name','#'], axis = 1).values[0]\n",
    "    input = np.concatenate((pkmn0_stats, pkmn1_stats))\n",
    "\n",
    "    if predictor.predict(example_input.reshape(1,-1))[0] == 0:\n",
    "        print(f'{pkmn0} will beat {pkmn1}!')\n",
    "    else:\n",
    "        print(f'{pkmn1} will beat {pkmn0}')"
   ]
  },
  {
   "cell_type": "code",
   "execution_count": 219,
   "metadata": {},
   "outputs": [
    {
     "name": "stdout",
     "output_type": "stream",
     "text": [
      "Dragonite will beat Pikachu\n"
     ]
    }
   ],
   "source": [
    "predict_battle_result(\"Pikachu\", \"Dragonite\")"
   ]
  }
 ],
 "metadata": {
  "kernelspec": {
   "display_name": "Python 3.8.7 64-bit",
   "language": "python",
   "name": "python3"
  },
  "language_info": {
   "codemirror_mode": {
    "name": "ipython",
    "version": 3
   },
   "file_extension": ".py",
   "mimetype": "text/x-python",
   "name": "python",
   "nbconvert_exporter": "python",
   "pygments_lexer": "ipython3",
   "version": "3.8.7"
  },
  "orig_nbformat": 4,
  "vscode": {
   "interpreter": {
    "hash": "3a53c88f4fdc719dd3265ddb13e8e9d7137a6cb76512705960f4604c66fa0a8c"
   }
  }
 },
 "nbformat": 4,
 "nbformat_minor": 2
}
